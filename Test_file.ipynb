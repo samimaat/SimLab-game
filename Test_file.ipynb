{
 "cells": [
  {
   "cell_type": "code",
   "execution_count": 1,
   "metadata": {},
   "outputs": [
    {
     "ename": "NameError",
     "evalue": "name 'add_two' is not defined",
     "output_type": "error",
     "traceback": [
      "\u001b[1;31m---------------------------------------------------------------------------\u001b[0m",
      "\u001b[1;31mNameError\u001b[0m                                 Traceback (most recent call last)",
      "\u001b[1;32m<ipython-input-1-429db6566871>\u001b[0m in \u001b[0;36m<module>\u001b[1;34m\u001b[0m\n\u001b[1;32m----> 1\u001b[1;33m d = {\"add_two\": add_two,\n\u001b[0m\u001b[0;32m      2\u001b[0m     \"subtract_two\": subtract_two}\n\u001b[0;32m      3\u001b[0m \u001b[1;33m\u001b[0m\u001b[0m\n\u001b[0;32m      4\u001b[0m \u001b[1;32mdef\u001b[0m \u001b[0madd_two\u001b[0m\u001b[1;33m(\u001b[0m\u001b[0mnumber\u001b[0m\u001b[1;33m)\u001b[0m\u001b[1;33m:\u001b[0m\u001b[1;33m\u001b[0m\u001b[1;33m\u001b[0m\u001b[0m\n\u001b[0;32m      5\u001b[0m     \u001b[1;32mreturn\u001b[0m \u001b[0mnumber\u001b[0m \u001b[1;33m+\u001b[0m \u001b[1;36m2\u001b[0m\u001b[1;33m\u001b[0m\u001b[1;33m\u001b[0m\u001b[0m\n",
      "\u001b[1;31mNameError\u001b[0m: name 'add_two' is not defined"
     ]
    }
   ],
   "source": [
    "d = {\"add_two\": add_two,\n",
    "    \"subtract_two\": subtract_two}\n",
    "\n",
    "def add_two(number):\n",
    "    return number + 2\n",
    "\n",
    "def subtract_two(number):\n",
    "    return number - 2\n",
    "\n",
    "\n",
    "number = 4\n",
    "\n",
    "print(list(d.keys()))\n",
    "def function(number):\n",
    "    while True:\n",
    "        instrument = input(\"Choose an instrument: \")\n",
    "        if instrument not in d:\n",
    "            print(\"Try again!\")\n",
    "        else:\n",
    "            return d[instrument](number)\n",
    "\n",
    "print(function(number))"
   ]
  }
 ],
 "metadata": {
  "kernelspec": {
   "display_name": "Python 3",
   "language": "python",
   "name": "python3"
  },
  "language_info": {
   "codemirror_mode": {
    "name": "ipython",
    "version": 3
   },
   "file_extension": ".py",
   "mimetype": "text/x-python",
   "name": "python",
   "nbconvert_exporter": "python",
   "pygments_lexer": "ipython3",
   "version": "3.8.5"
  }
 },
 "nbformat": 4,
 "nbformat_minor": 4
}
